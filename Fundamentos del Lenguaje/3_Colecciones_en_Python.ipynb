{
  "cells": [
    {
      "cell_type": "code",
      "execution_count": 2,
      "metadata": {
        "colab": {
          "base_uri": "https://localhost:8080/"
        },
        "id": "Y6e0lE_Nsvaw",
        "outputId": "d963080c-1bac-414d-fa7b-0aef95147ed7"
      },
      "outputs": [
        {
          "name": "stdout",
          "output_type": "stream",
          "text": [
            "4.1000000000000005\n"
          ]
        }
      ],
      "source": [
        "notas = [4.3,5,2.5,4.3,7,1.5,8]\n",
        "print(sum(notas)/len(notas))"
      ]
    },
    {
      "cell_type": "markdown",
      "metadata": {
        "id": "95qEmfi6vTZS"
      },
      "source": [
        "# Introducción\n",
        "Las colecciones nos permiten agrupar datos, objetos y otras estructuras bajo un mismo nombre.\n",
        "\n",
        "**¿Ventajas?**\n",
        "\n",
        "En Python existen cuatro colecciones básicas: Listas, Tuplas, Conjuntos y Diccionarios"
      ]
    },
    {
      "cell_type": "markdown",
      "metadata": {
        "id": "Nehe3iMovZRM"
      },
      "source": [
        "## LISTAS"
      ]
    },
    {
      "cell_type": "markdown",
      "metadata": {
        "id": "stCm-nX4vmFH"
      },
      "source": [
        "Las listas utilizan corchetes para la creación y acceso de sus elementos"
      ]
    },
    {
      "cell_type": "markdown",
      "metadata": {
        "id": "CepL0AFMvq4S"
      },
      "source": [
        "## CREACION Y ACCESO"
      ]
    },
    {
      "cell_type": "code",
      "execution_count": 6,
      "metadata": {
        "colab": {
          "base_uri": "https://localhost:8080/"
        },
        "id": "O49wGdLjvtRL",
        "outputId": "4a659b4a-832c-43b0-f34d-44a3f10f04a4"
      },
      "outputs": [
        {
          "name": "stdout",
          "output_type": "stream",
          "text": [
            "['Python', 'Java', 'Javascript']\n",
            "Python\n",
            "Java\n"
          ]
        }
      ],
      "source": [
        "lenguajes = [\"Python\", \"Java\", \"Javascript\"]\n",
        "print(lenguajes)\n",
        "print(lenguajes[0])\n",
        "print(lenguajes[1])\n"
      ]
    },
    {
      "cell_type": "code",
      "execution_count": 7,
      "metadata": {
        "colab": {
          "base_uri": "https://localhost:8080/"
        },
        "id": "FMUG32sYwNqs",
        "outputId": "e6c1f364-1a96-4bee-da63-8033c12a3d51"
      },
      "outputs": [
        {
          "name": "stdout",
          "output_type": "stream",
          "text": [
            "16\n"
          ]
        }
      ],
      "source": [
        "numeros =  [3,4,6,2,6,8,4,9]\n",
        "res = numeros[-3] + numeros[5]\n",
        "print(res)"
      ]
    },
    {
      "cell_type": "markdown",
      "metadata": {
        "id": "EKsvoZ_WxOYF"
      },
      "source": [
        "otra forma alternativa de crear listas es mediante la función **list** que recibe como argumento un objeto iterable"
      ]
    },
    {
      "cell_type": "code",
      "execution_count": 10,
      "metadata": {
        "colab": {
          "base_uri": "https://localhost:8080/"
        },
        "id": "pTq2iB8LxPFD",
        "outputId": "bf532b41-8211-49be-9500-d088bb8ac58d"
      },
      "outputs": [
        {
          "name": "stdout",
          "output_type": "stream",
          "text": [
            "[1, 2, 3, 4, 5, 6, 7]\n",
            "['1', '2', '3', '4', '5', '6', '7']\n"
          ]
        }
      ],
      "source": [
        "mi_lista = list('1234567')\n",
        "milista_eneteros = [int(x) for x in mi_lista]\n",
        "print(milista_eneteros)\n",
        "print(mi_lista)"
      ]
    },
    {
      "cell_type": "code",
      "execution_count": 11,
      "metadata": {
        "colab": {
          "base_uri": "https://localhost:8080/"
        },
        "id": "YlhfBd8uyt_N",
        "outputId": "c3f53040-d363-4008-9e7f-499b844ff71f"
      },
      "outputs": [
        {
          "name": "stdout",
          "output_type": "stream",
          "text": [
            "[1, 2, 3, 4, 5, 6, 7]\n"
          ]
        }
      ],
      "source": [
        "mi_lista = list('1234567')\n",
        "lista_final = []\n",
        "for x in mi_lista:\n",
        "  lista_final.append(int(x))\n",
        "print(lista_final)"
      ]
    },
    {
      "cell_type": "code",
      "execution_count": 12,
      "metadata": {
        "colab": {
          "base_uri": "https://localhost:8080/"
        },
        "id": "4H0CO_aEz024",
        "outputId": "2dd36004-cfd5-49ed-824b-c0966dda1f8f"
      },
      "outputs": [
        {
          "name": "stdout",
          "output_type": "stream",
          "text": [
            "[1, 2, 3, 4, 5, 6, 7, 8, 9]\n"
          ]
        }
      ],
      "source": [
        "ml = list(range(1,10))\n",
        "print(ml)"
      ]
    },
    {
      "cell_type": "markdown",
      "metadata": {
        "id": "Uv6lXEu_0IAh"
      },
      "source": [
        "Una lista en Python puede almacenar elementos de cualquier tipo de dato, incluso otras listas"
      ]
    },
    {
      "cell_type": "code",
      "execution_count": 13,
      "metadata": {
        "colab": {
          "base_uri": "https://localhost:8080/"
        },
        "id": "om4FsOMv0ItA",
        "outputId": "95a0116c-77f7-4696-98e7-8854584d0d07"
      },
      "outputs": [
        {
          "name": "stdout",
          "output_type": "stream",
          "text": [
            "[2, 3.5, True, 'amigo', [3, 8, 'a']]\n"
          ]
        }
      ],
      "source": [
        "mi_lista = [2,3.5,True,\"amigo\", [3,8,\"a\"]]\n",
        "print(mi_lista)"
      ]
    },
    {
      "cell_type": "code",
      "execution_count": 14,
      "metadata": {
        "colab": {
          "base_uri": "https://localhost:8080/"
        },
        "id": "SKiGzXpW0csL",
        "outputId": "685b3af8-c95c-48b2-d7f2-a3709ec22a2d"
      },
      "outputs": [
        {
          "name": "stdout",
          "output_type": "stream",
          "text": [
            "6\n",
            "6\n"
          ]
        }
      ],
      "source": [
        "mi_listas = [1,2,3, ['p','q', [5,6,7]]]\n",
        "print(mi_listas[3][2][1])\n",
        "print(mi_listas[-1][-1][-2])"
      ]
    },
    {
      "cell_type": "code",
      "execution_count": 21,
      "metadata": {
        "colab": {
          "base_uri": "https://localhost:8080/"
        },
        "id": "01zKEyM34bbG",
        "outputId": "95d2338f-750d-43be-fc32-6bded31a3e36"
      },
      "outputs": [
        {
          "name": "stdout",
          "output_type": "stream",
          "text": [
            "[1, 2, 3, 4, 5, 6, 7, 8, 9]\n",
            "[2, 3, 4]\n",
            "[1, 2]\n",
            "[8, 9]\n",
            "[5, 6, 7, 8]\n",
            "[7, 8, 9]\n"
          ]
        }
      ],
      "source": [
        "mi_lista= list(range(1,10))\n",
        "print(mi_lista)\n",
        "print(mi_lista [1:4])\n",
        "print(mi_lista[:2])\n",
        "print(mi_lista[7:])\n",
        "print(mi_lista[-5:-1])\n",
        "print(mi_lista[-3:])"
      ]
    },
    {
      "cell_type": "code",
      "execution_count": 22,
      "metadata": {
        "colab": {
          "base_uri": "https://localhost:8080/"
        },
        "id": "gcc1a_xY5yCC",
        "outputId": "5ed5013a-5725-4fd4-f8c7-9c6a1c836723"
      },
      "outputs": [
        {
          "name": "stdout",
          "output_type": "stream",
          "text": [
            "['a', 'b', 'c', 4, 5, 6]\n"
          ]
        }
      ],
      "source": [
        "mi_lista = [1,2,3,4,5,6]\n",
        "mi_lista [0:3] = [\"a\", \"b\",\"c\"]\n",
        "print(mi_lista)\n"
      ]
    },
    {
      "cell_type": "code",
      "execution_count": 24,
      "metadata": {
        "colab": {
          "base_uri": "https://localhost:8080/"
        },
        "id": "WrKek2C06myq",
        "outputId": "03405f6b-6646-4ff6-ca5a-7af00ebd268e"
      },
      "outputs": [
        {
          "name": "stdout",
          "output_type": "stream",
          "text": [
            "[1, 2, 3, 4, 5, 6]\n",
            "[1, 2, 3, 4, 5, 6, 7, 8, 9]\n"
          ]
        }
      ],
      "source": [
        "mi_lista = [1,2,3,4,5]\n",
        "mi_lista = mi_lista  + [6]\n",
        "print(mi_lista)\n",
        "mi_lista = mi_lista + [7,8,9]\n",
        "print(mi_lista)"
      ]
    },
    {
      "cell_type": "code",
      "execution_count": 25,
      "metadata": {
        "colab": {
          "base_uri": "https://localhost:8080/"
        },
        "id": "sczhq1fH6_fH",
        "outputId": "21a3f9e7-0ee5-4d4a-b6a6-713860ff4a52"
      },
      "outputs": [
        {
          "name": "stdout",
          "output_type": "stream",
          "text": [
            "valor de x: 1\n",
            "valor de y: 2\n",
            "valor de z: 3\n"
          ]
        }
      ],
      "source": [
        "mi_lista = [1,2,3]\n",
        "x,y,z = mi_lista # Asignar variables al contenido de la lista\n",
        "print(f\"valor de x: {x}\")\n",
        "print(f\"valor de y: {y}\")\n",
        "print(f\"valor de z: {z}\")"
      ]
    },
    {
      "cell_type": "markdown",
      "metadata": {
        "id": "olAxvTkR7jNC"
      },
      "source": [
        "## ELIMINACION E INSERCION"
      ]
    },
    {
      "cell_type": "code",
      "execution_count": 26,
      "metadata": {
        "colab": {
          "base_uri": "https://localhost:8080/"
        },
        "id": "CMYBIaFQ7lgw",
        "outputId": "de353aa2-7749-462f-f4ba-0541b6db8a42"
      },
      "outputs": [
        {
          "name": "stdout",
          "output_type": "stream",
          "text": [
            "['python', 'javascript']\n"
          ]
        }
      ],
      "source": [
        "lenguajes = [\"python\", \"java\", \"javascript\"]\n",
        "del lenguajes[1]\n",
        "print(lenguajes)"
      ]
    },
    {
      "cell_type": "markdown",
      "metadata": {
        "id": "6QTg5bQe75WH"
      },
      "source": [
        "POdemos insertar datos en una posicion especifica  con la funcion insert  o al final de lista con la función append"
      ]
    },
    {
      "cell_type": "code",
      "execution_count": 27,
      "metadata": {
        "colab": {
          "base_uri": "https://localhost:8080/"
        },
        "id": "Eew5s9kA8EKm",
        "outputId": "fea3b595-0fc6-49dc-f6ea-98c43d03dd1e"
      },
      "outputs": [
        {
          "name": "stdout",
          "output_type": "stream",
          "text": [
            "['python', 'c++', 'java', 'javascript']\n",
            "['python', 'c++', 'java', 'javascript', 'c#']\n"
          ]
        }
      ],
      "source": [
        "lenguajes = [\"python\", \"java\", \"javascript\"]\n",
        "lenguajes.insert(1, \"c++\")\n",
        "print(lenguajes)\n",
        "lenguajes.append(\"c#\")\n",
        "print(lenguajes)"
      ]
    },
    {
      "cell_type": "code",
      "execution_count": 28,
      "metadata": {
        "colab": {
          "base_uri": "https://localhost:8080/"
        },
        "id": "Tc_gidIO8P_6",
        "outputId": "00fd189d-9bfe-4128-c434-70c97a396f0b"
      },
      "outputs": [
        {
          "name": "stdout",
          "output_type": "stream",
          "text": [
            "['ala', 'casa', 'cosa']\n"
          ]
        }
      ],
      "source": [
        "lista = [\"casa\", \"cosa\", \"ala\"]\n",
        "lista.sort()\n",
        "print(lista)"
      ]
    },
    {
      "cell_type": "markdown",
      "metadata": {
        "id": "-Lkffy9x8pTF"
      },
      "source": [
        "para saber si un elemento se encuentra dentro de una lista utilizamos la palabra reservada in"
      ]
    },
    {
      "cell_type": "code",
      "execution_count": 29,
      "metadata": {
        "colab": {
          "base_uri": "https://localhost:8080/"
        },
        "id": "1UcSA2n_8tpW",
        "outputId": "c338b0c0-91c7-4681-bd8c-427c98f4b1ac"
      },
      "outputs": [
        {
          "name": "stdout",
          "output_type": "stream",
          "text": [
            "True\n",
            "False\n"
          ]
        }
      ],
      "source": [
        "lenguajes = [\"python\", \"java\", \"javascript\"]\n",
        "print(\"python\" in lenguajes)\n",
        "print(\"c++\" in lenguajes)"
      ]
    },
    {
      "cell_type": "markdown",
      "metadata": {
        "id": "x0JRwfcx85eX"
      },
      "source": []
    },
    {
      "cell_type": "markdown",
      "metadata": {
        "id": "tszNfBVn85pD"
      },
      "source": [
        "## Recorridos de Listas"
      ]
    },
    {
      "cell_type": "code",
      "execution_count": 31,
      "metadata": {
        "colab": {
          "base_uri": "https://localhost:8080/"
        },
        "id": "KjEJUdTx888J",
        "outputId": "cf593672-899f-4123-c52d-3a349fc79a23"
      },
      "outputs": [
        {
          "name": "stdout",
          "output_type": "stream",
          "text": [
            "[1, 2, 3, 4, 5]\n",
            "1\n",
            "2\n",
            "3\n",
            "4\n",
            "5\n"
          ]
        }
      ],
      "source": [
        "numeros = [1,2,3,4,5]\n",
        "print(numeros)\n",
        "for num in numeros:\n",
        "  print(num)"
      ]
    },
    {
      "cell_type": "markdown",
      "metadata": {
        "id": "VHoCr9aJ9ROU"
      },
      "source": [
        "Python nos ofrece una forma alternativa de acceder al indice de cada elemento a través de la función enumerate"
      ]
    },
    {
      "cell_type": "code",
      "execution_count": 32,
      "metadata": {
        "colab": {
          "base_uri": "https://localhost:8080/"
        },
        "id": "m-h9e4ZN9YiM",
        "outputId": "48e69746-ce69-444b-afdf-2fef4f4af022"
      },
      "outputs": [
        {
          "name": "stdout",
          "output_type": "stream",
          "text": [
            "EN la posición: 0 encontramos el valor: 3\n",
            "EN la posición: 1 encontramos el valor: 29\n",
            "EN la posición: 2 encontramos el valor: 34\n",
            "EN la posición: 3 encontramos el valor: 42\n",
            "EN la posición: 4 encontramos el valor: 54\n"
          ]
        }
      ],
      "source": [
        "numeros = [3,29,34,42,54]\n",
        "for x,y in enumerate(numeros):\n",
        "    print(f\"EN la posición: {x} encontramos el valor: {y}\")"
      ]
    },
    {
      "cell_type": "markdown",
      "metadata": {
        "id": "Fndbd2Cv98HO"
      },
      "source": [
        "Debido a que la función enumerate devuelve para cada elemento de la lista un par (índice - valor), podemos obtener ambos al tiempo en la misma variable como en el ejemplo anterior o acceder a cada uno a través de variables diferentes. Veamos:"
      ]
    },
    {
      "cell_type": "code",
      "execution_count": 33,
      "metadata": {
        "colab": {
          "base_uri": "https://localhost:8080/"
        },
        "id": "bO3y7g4-99th",
        "outputId": "f0be14e5-0ff0-4a29-f1ba-0febf2cc545c"
      },
      "outputs": [
        {
          "name": "stdout",
          "output_type": "stream",
          "text": [
            "EN la posición: 0 encontramos el valor: A\n",
            "EN la posición: 1 encontramos el valor: B\n",
            "EN la posición: 2 encontramos el valor: C\n",
            "EN la posición: 3 encontramos el valor: D\n",
            "EN la posición: 4 encontramos el valor: E\n"
          ]
        }
      ],
      "source": [
        "numeros = [\"A\", \"B\", \"C\", \"D\", \"E\"]\n",
        "for indice,valor in enumerate(numeros):\n",
        "    print(f\"EN la posición: {indice} encontramos el valor: {valor}\")"
      ]
    },
    {
      "cell_type": "code",
      "execution_count": 34,
      "metadata": {
        "colab": {
          "base_uri": "https://localhost:8080/"
        },
        "id": "kRPFuV5J-YDE",
        "outputId": "f3367a89-7aca-42cd-9598-4163d25e898c"
      },
      "outputs": [
        {
          "name": "stdout",
          "output_type": "stream",
          "text": [
            "2\n",
            "35\n",
            "8\n",
            "95\n",
            "41\n"
          ]
        }
      ],
      "source": [
        "lista = [2,35,8,95,41]\n",
        "indice = 0\n",
        "while indice < len(lista):\n",
        "  print(lista[indice])\n",
        "  indice += 1\n",
        "\n"
      ]
    },
    {
      "cell_type": "markdown",
      "metadata": {
        "id": "vAqUm69W_VH9"
      },
      "source": [
        "Se cuenta con dos listas y se desean recorrer de manera simultánea mostrando el valor de las dos en cada posición.  ¿Ayudarías a terminar el código de tal manera que se obtenga el siguiente resultado?\n",
        "\n",
        "\n",
        "```\n",
        "ma - pa\n",
        "me - pe\n",
        "mi - pi\n",
        "mo - po\n",
        "mu - pu\n",
        "```"
      ]
    },
    {
      "cell_type": "code",
      "execution_count": 39,
      "metadata": {
        "colab": {
          "base_uri": "https://localhost:8080/"
        },
        "id": "Zgiqq4PQ_VsT",
        "outputId": "3d8de735-891e-49de-be7e-be7ab255d23a"
      },
      "outputs": [
        {
          "name": "stdout",
          "output_type": "stream",
          "text": [
            "ma - pa\n",
            "me - pe\n",
            "mi - pi\n",
            "mo - po\n",
            "mu - pu\n"
          ]
        }
      ],
      "source": [
        "lista_1 = [\"ma\",\"me\",\"mi\",\"mo\",\"mu\",\"ñu\"]\n",
        "lista_2 = [\"pa\",\"pe\",\"pi\",\"po\",\"pu\"]\n",
        "\n",
        "for i in range (min(len(lista_1), len(lista_2))):\n",
        "  print(lista_1[i] + \" - \" + lista_2[i])"
      ]
    },
    {
      "cell_type": "code",
      "execution_count": 40,
      "metadata": {
        "colab": {
          "base_uri": "https://localhost:8080/"
        },
        "id": "0xutyhu1E-qh",
        "outputId": "7ca2f2ec-ce26-4840-8381-64cc6ca77f96"
      },
      "outputs": [
        {
          "name": "stdout",
          "output_type": "stream",
          "text": [
            "('ma', 'pa', 'ra', 'sa', 'ta')\n",
            "('me', 'pe', 're', 'se', 'te')\n",
            "('mi', 'pi', 'ri', 'si', 'ti')\n",
            "('mo', 'po', 'ro', 'so', 'to')\n",
            "('mu', 'pu', 'ru', 'su', 'tu')\n"
          ]
        }
      ],
      "source": [
        "lista_1 = [\"ma\",\"me\",\"mi\",\"mo\",\"mu\",\"ñu\"]\n",
        "lista_2 = [\"pa\",\"pe\",\"pi\",\"po\",\"pu\"]\n",
        "lista_3 = [\"ra\", \"re\", \"ri\", \"ro\", \"ru\"]\n",
        "lista_4 = [\"sa\", \"se\", \"si\", \"so\", \"su\"]\n",
        "lista_5 = [\"ta\", \"te\", \"ti\", \"to\", \"tu\"]\n",
        "\n",
        "for x in zip (lista_1, lista_2, lista_3, lista_4, lista_5):\n",
        "  print(x)"
      ]
    },
    {
      "cell_type": "markdown",
      "metadata": {
        "id": "P2sqhFnjFeK1"
      },
      "source": [
        "A la función **zip** le podemos pasar cualquier número de listas y tendrá la capacidad de generar un iterador que las recorra simultáneamente."
      ]
    },
    {
      "cell_type": "markdown",
      "metadata": {
        "id": "Fvrg5b0GFk6R"
      },
      "source": [
        "## METODOS APLICABLES A LISTAS"
      ]
    },
    {
      "cell_type": "code",
      "execution_count": null,
      "metadata": {
        "id": "EO0mAjx_Fm5l"
      },
      "outputs": [],
      "source": []
    },
    {
      "cell_type": "markdown",
      "metadata": {
        "id": "Oorwne6uFpLM"
      },
      "source": [
        "El método **sort()** ordena los elementos de una lista"
      ]
    },
    {
      "cell_type": "code",
      "execution_count": 41,
      "metadata": {
        "colab": {
          "base_uri": "https://localhost:8080/"
        },
        "id": "OyBgh1Q6Fpxq",
        "outputId": "dfee5ce5-7472-4895-cf45-0a26d48a01c3"
      },
      "outputs": [
        {
          "name": "stdout",
          "output_type": "stream",
          "text": [
            "[1, 2, 2, 4, 5, 8]\n"
          ]
        }
      ],
      "source": [
        "mi_lista = [4,5,2,8,2,1]\n",
        "mi_lista.sort()\n",
        "print(mi_lista)"
      ]
    },
    {
      "cell_type": "markdown",
      "metadata": {
        "id": "U2C-NsmBF34y"
      },
      "source": [
        "Podemos pasarle el argumento reverse=True al método sort() para que ordene inversamente"
      ]
    },
    {
      "cell_type": "code",
      "execution_count": 42,
      "metadata": {
        "colab": {
          "base_uri": "https://localhost:8080/"
        },
        "id": "ntTRh8vmF4X5",
        "outputId": "58433e3d-6517-406d-a7b3-33a84187d9af"
      },
      "outputs": [
        {
          "name": "stdout",
          "output_type": "stream",
          "text": [
            "[8, 5, 4, 2, 2, 1]\n"
          ]
        }
      ],
      "source": [
        "mi_lista = [4,5,2,8,2,1]\n",
        "mi_lista.sort(reverse=True)\n",
        "print(mi_lista)"
      ]
    },
    {
      "cell_type": "markdown",
      "metadata": {
        "id": "vldi7oQDGKF1"
      },
      "source": [
        "El método **remove()** recibe como argumento un objeto y lo borra de la lista"
      ]
    },
    {
      "cell_type": "code",
      "execution_count": 44,
      "metadata": {
        "colab": {
          "base_uri": "https://localhost:8080/"
        },
        "id": "y5osWGa0GKf0",
        "outputId": "a79439ab-c232-4c09-f739-94027ff02849"
      },
      "outputs": [
        {
          "name": "stdout",
          "output_type": "stream",
          "text": [
            "['python', 'javascript']\n"
          ]
        }
      ],
      "source": [
        "lenguajes = [\"python\", \"java\", \"javascript\"]\n",
        "lenguajes.remove(\"java\")\n",
        "print(lenguajes)"
      ]
    },
    {
      "cell_type": "markdown",
      "metadata": {
        "id": "B2tKHT4KGcTN"
      },
      "source": [
        "Nota que la diferencia entre **remove()** y **del** es que al primero le puedo enviar el valor que deseo remover mientras que el segundo **del** trabaja con los índices"
      ]
    },
    {
      "cell_type": "code",
      "execution_count": null,
      "metadata": {
        "id": "3B5m8Gv0GdAB"
      },
      "outputs": [],
      "source": []
    },
    {
      "cell_type": "markdown",
      "metadata": {
        "id": "8CowPlhrGfRg"
      },
      "source": [
        "El método **reverse()** invierte el contenido de la lista"
      ]
    },
    {
      "cell_type": "code",
      "execution_count": 45,
      "metadata": {
        "colab": {
          "base_uri": "https://localhost:8080/"
        },
        "id": "jhJfLAt9Gldg",
        "outputId": "513417ec-19e6-44a4-d5f0-60a48ebf87fd"
      },
      "outputs": [
        {
          "name": "stdout",
          "output_type": "stream",
          "text": [
            "['javascript', 'java', 'python']\n"
          ]
        }
      ],
      "source": [
        "lenguajes = [\"python\", \"java\", \"javascript\"]\n",
        "lenguajes.reverse()\n",
        "print(lenguajes)"
      ]
    },
    {
      "cell_type": "code",
      "execution_count": 46,
      "metadata": {
        "colab": {
          "base_uri": "https://localhost:8080/"
        },
        "id": "0OuORTioGwZx",
        "outputId": "f1c636b8-d382-4071-c715-617db1b38eb4"
      },
      "outputs": [
        {
          "name": "stdout",
          "output_type": "stream",
          "text": [
            "ODNUM ALOH\n"
          ]
        }
      ],
      "source": [
        "cadena = \"HOLA MUNDO\"\n",
        "print(cadena[::-1])"
      ]
    },
    {
      "cell_type": "code",
      "execution_count": 48,
      "metadata": {
        "colab": {
          "base_uri": "https://localhost:8080/"
        },
        "id": "DXm10nldG8pr",
        "outputId": "7abb40f6-54ca-4faa-b451-bcf49c7475d4"
      },
      "outputs": [
        {
          "name": "stdout",
          "output_type": "stream",
          "text": [
            "['H', 'O', 'L', 'A', ' ', 'M', 'U', 'N', 'D', 'O', '0']\n",
            "['0', 'O', 'D', 'N', 'U', 'M', ' ', 'A', 'L', 'O', 'H']\n",
            "0ODNUM ALOH\n"
          ]
        }
      ],
      "source": [
        "cadena = \"HOLA MUNDO0\"\n",
        "Lista = list(cadena)\n",
        "print(Lista)\n",
        "Lista.reverse()\n",
        "print(Lista)\n",
        "\n",
        "cadena = \"\".join(Lista)\n",
        "print(cadena)"
      ]
    },
    {
      "cell_type": "markdown",
      "metadata": {
        "id": "SPzj4dO_Hd7C"
      },
      "source": [
        "\n",
        "```\n",
        "clear()\n",
        "Vacía todos los ítems de una lista:\n",
        "lista.clear()\n",
        "[]\n",
        "\n",
        "extend()\n",
        "Une una lista a otra:\n",
        "l1 = [1,2,3]\n",
        "l2 = [4,5,6]\n",
        "l1.extend(l2)\n",
        "[1, 2, 3, 4, 5, 6]\n",
        "\n",
        "count()\n",
        "Cuenta el número de veces que aparece un ítem:\n",
        "[\"Hola\", \"mundo\", \"mundo\"].count(\"Hola\")\n",
        "1\n",
        "\n",
        "index()\n",
        "Devuelve el índice en el que aparece un ítem (error si no aparece):\n",
        "[\"Hola\", \"mundo\", \"mundo\"].index(\"mundo\")\n",
        "1\n",
        "\n",
        "pop()\n",
        "Extrae un ítem de la lista y lo borra:\n",
        "l = [10,20,30,40,50]\n",
        "print(l.pop())\n",
        "50\n",
        "[10, 20, 30, 40]\n",
        "\n",
        "```"
      ]
    },
    {
      "cell_type": "code",
      "execution_count": 50,
      "metadata": {
        "colab": {
          "base_uri": "https://localhost:8080/"
        },
        "id": "hRzl6txjHejT",
        "outputId": "021437d8-8801-488e-8cca-74ff7a32b341"
      },
      "outputs": [
        {
          "name": "stdout",
          "output_type": "stream",
          "text": [
            "30\n",
            "[10, 20, 40, 50]\n"
          ]
        }
      ],
      "source": [
        "l = [10,20,30,40,50]\n",
        "print(l.pop(2))\n",
        "print(l)\n"
      ]
    },
    {
      "cell_type": "markdown",
      "metadata": {
        "id": "Z4PrdWUtUDn3"
      },
      "source": [
        "## TUPLAS"
      ]
    },
    {
      "cell_type": "markdown",
      "metadata": {
        "id": "h3JJ7uS9UG4a"
      },
      "source": [
        "## Generalidades"
      ]
    },
    {
      "cell_type": "markdown",
      "metadata": {
        "id": "KXITlh9VUUHp"
      },
      "source": [
        "Las Tuplas son similares a las listas pero con la característica de ser inmutables, es decir, sus valores no pueden cambiar.  Las Tuplas se crean con paréntesis **()** en lugar de corchetes **[]**  pero al igual que las listas, se accede a sus posiciones con corchetes **[]**  Veamos:"
      ]
    },
    {
      "cell_type": "code",
      "execution_count": 55,
      "metadata": {
        "colab": {
          "base_uri": "https://localhost:8080/"
        },
        "id": "bX36Bg8MUUhe",
        "outputId": "48717592-b44b-4bbf-e0ef-3a8961ca9f48"
      },
      "outputs": [
        {
          "name": "stdout",
          "output_type": "stream",
          "text": [
            "<class 'tuple'>\n",
            "('a', 'b', 'c', 'd')\n",
            "c\n",
            "('b', 'c')\n",
            "d\n"
          ]
        }
      ],
      "source": [
        "mi_tupla = (\"a\", \"b\", \"c\", \"d\")\n",
        "print(type(mi_tupla))\n",
        "print(mi_tupla)\n",
        "print(mi_tupla[2])\n",
        "print(mi_tupla[1:3])\n",
        "print(mi_tupla[-1])"
      ]
    },
    {
      "cell_type": "code",
      "execution_count": 56,
      "metadata": {
        "colab": {
          "base_uri": "https://localhost:8080/",
          "height": 176
        },
        "id": "VDnh4a2iUoSM",
        "outputId": "03c8dc11-a841-4510-9553-c6d6ea625ba8"
      },
      "outputs": [
        {
          "ename": "TypeError",
          "evalue": "'tuple' object does not support item assignment",
          "output_type": "error",
          "traceback": [
            "\u001b[0;31m---------------------------------------------------------------------------\u001b[0m",
            "\u001b[0;31mTypeError\u001b[0m                                 Traceback (most recent call last)",
            "\u001b[0;32m<ipython-input-56-a7f106a06860>\u001b[0m in \u001b[0;36m<cell line: 0>\u001b[0;34m()\u001b[0m\n\u001b[1;32m      1\u001b[0m \u001b[0mmi_tupla\u001b[0m \u001b[0;34m=\u001b[0m \u001b[0;34m(\u001b[0m\u001b[0;34m\"a\"\u001b[0m\u001b[0;34m,\u001b[0m \u001b[0;34m\"b\"\u001b[0m\u001b[0;34m,\u001b[0m \u001b[0;34m\"c\"\u001b[0m\u001b[0;34m,\u001b[0m \u001b[0;34m\"d\"\u001b[0m\u001b[0;34m)\u001b[0m\u001b[0;34m\u001b[0m\u001b[0;34m\u001b[0m\u001b[0m\n\u001b[0;32m----> 2\u001b[0;31m \u001b[0mmi_tupla\u001b[0m\u001b[0;34m[\u001b[0m\u001b[0;36m1\u001b[0m\u001b[0;34m]\u001b[0m \u001b[0;34m=\u001b[0m \u001b[0;34m\"f\"\u001b[0m\u001b[0;34m\u001b[0m\u001b[0;34m\u001b[0m\u001b[0m\n\u001b[0m\u001b[1;32m      3\u001b[0m \u001b[0mprint\u001b[0m\u001b[0;34m(\u001b[0m\u001b[0mmi_tupla\u001b[0m\u001b[0;34m[\u001b[0m\u001b[0;36m1\u001b[0m\u001b[0;34m]\u001b[0m\u001b[0;34m)\u001b[0m\u001b[0;34m\u001b[0m\u001b[0;34m\u001b[0m\u001b[0m\n",
            "\u001b[0;31mTypeError\u001b[0m: 'tuple' object does not support item assignment"
          ]
        }
      ],
      "source": [
        "mi_tupla = (\"a\", \"b\", \"c\", \"d\")\n",
        "mi_tupla[1] = \"f\"\n",
        "print(mi_tupla[1])\n"
      ]
    },
    {
      "cell_type": "markdown",
      "metadata": {
        "id": "__guMVvTVNWS"
      },
      "source": [
        "**Que ventajas tiene  una Tupla sobre una LIsta**"
      ]
    },
    {
      "cell_type": "markdown",
      "metadata": {
        "id": "-Gd6AbN3Vhrp"
      },
      "source": [
        "Las Tuplas al igual que las Listas pueden almacenar diferentes tipos de elementos y pueden conformarse por otras listas o tuplas internas.  El acceso a sus elementos funciona igual que con las listas."
      ]
    },
    {
      "cell_type": "code",
      "execution_count": 60,
      "metadata": {
        "colab": {
          "base_uri": "https://localhost:8080/"
        },
        "id": "RyK2PLgwViMi",
        "outputId": "7c038dd0-f167-41b9-a719-3d1e89d9d67a"
      },
      "outputs": [
        {
          "name": "stdout",
          "output_type": "stream",
          "text": [
            "3\n",
            "Y\n"
          ]
        }
      ],
      "source": [
        "mi_tupla = (100, 'hola', [1,2,3], -50)\n",
        "print(mi_tupla[2][-1])\n",
        "mi_tupla = (100, 'hola',(1, (200,'D', ['X', 'Y', 'Z'])), (1,2,3), -50 )\n",
        "print(mi_tupla[2][1][2][1])"
      ]
    },
    {
      "cell_type": "markdown",
      "metadata": {
        "id": "2WUE1KVBW-WH"
      },
      "source": [
        "Las Tuplas comparten varios métodos de las listas, sin embargo, por ser inmutables, las Tuplas no usan ningún método en cuyo resultado sea un cambio de contenido.  Ejemplo append(), insert(), remove(), sort(), reverse(), etc."
      ]
    },
    {
      "cell_type": "code",
      "execution_count": 61,
      "metadata": {
        "colab": {
          "base_uri": "https://localhost:8080/"
        },
        "id": "lXtSkhyWWPuo",
        "outputId": "936d6115-89df-4313-abd5-9859a266f15c"
      },
      "outputs": [
        {
          "name": "stdout",
          "output_type": "stream",
          "text": [
            "3\n"
          ]
        }
      ],
      "source": [
        "mi_tupla = (2,5,2,45,12,5,63,52,4,2.5,8,2)\n",
        "print( mi_tupla.count(2))"
      ]
    },
    {
      "cell_type": "code",
      "execution_count": null,
      "metadata": {
        "id": "5N3G2ax0XVEr"
      },
      "outputs": [],
      "source": [
        "mi_tupla = (2,5,2,45,12,5,63,52,4,2.5,8,2)\n",
        "print(mi_tupla.sort())"
      ]
    },
    {
      "cell_type": "markdown",
      "metadata": {
        "id": "J9C_vzCnXue8"
      },
      "source": [
        "Las tuplas también las podemos crear a partir de la función **tuple** que recibe un objeto iterable"
      ]
    },
    {
      "cell_type": "code",
      "execution_count": 63,
      "metadata": {
        "colab": {
          "base_uri": "https://localhost:8080/"
        },
        "id": "N9U2Z8dlXu9K",
        "outputId": "15f43f23-6152-4040-ccd9-0d0564d104a6"
      },
      "outputs": [
        {
          "name": "stdout",
          "output_type": "stream",
          "text": [
            "('H', 'o', 'l', 'a', ' ', 'M', 'u', 'n', 'd', 'o')\n"
          ]
        }
      ],
      "source": [
        "mi_tupla = tuple(\"Hola Mundo\")\n",
        "print(mi_tupla)\n",
        "for dato in mi_tupla:\n",
        "  print(dato)"
      ]
    },
    {
      "cell_type": "markdown",
      "metadata": {
        "id": "OC-BI2DGX6wr"
      },
      "source": [
        "Por lo demás, podemos resumir diciendo que las listas y las tuplas son semejantes, con la diferencia que las segundas no pueden cambiar su contenido."
      ]
    },
    {
      "cell_type": "code",
      "execution_count": 67,
      "metadata": {
        "colab": {
          "base_uri": "https://localhost:8080/"
        },
        "id": "i7ZxF1YNX7NV",
        "outputId": "c3a2bd5f-ed13-4a54-a113-1f9ca1747514"
      },
      "outputs": [
        {
          "name": "stdout",
          "output_type": "stream",
          "text": [
            "Ingrese una frase: calculadora\n",
            "('c', 'a', 'l', 'c', 'u', 'l', 'a', 'd', 'o', 'r', 'a')\n",
            "La frase tiene 11 caracteres\n",
            "c\n",
            "a\n",
            "l\n",
            "c\n",
            "u\n",
            "l\n",
            "a\n",
            "d\n",
            "o\n",
            "r\n",
            "a\n",
            "(0, 'c')\n",
            "(1, 'a')\n",
            "(2, 'l')\n",
            "(3, 'c')\n",
            "(4, 'u')\n",
            "(5, 'l')\n",
            "(6, 'a')\n",
            "(7, 'd')\n",
            "(8, 'o')\n",
            "(9, 'r')\n",
            "(10, 'a')\n"
          ]
        }
      ],
      "source": [
        "mi_tupla = tuple(input(\"Ingrese una frase: \"))\n",
        "print(mi_tupla)\n",
        "print(f\"La frase tiene {len(mi_tupla)} caracteres\")\n",
        "\n",
        "for dato in mi_tupla:\n",
        "  print(dato)\n",
        "\n",
        "for dato in enumerate(mi_tupla):\n",
        "  print(dato)\n"
      ]
    },
    {
      "cell_type": "markdown",
      "metadata": {
        "id": "NRG8BRlpYt5p"
      },
      "source": [
        "## PASO DE LA TUPLA A LISTA Y DE LA LISTA A TUPLA"
      ]
    },
    {
      "cell_type": "code",
      "execution_count": null,
      "metadata": {
        "id": "29KxN4xRYykg"
      },
      "outputs": [],
      "source": []
    },
    {
      "cell_type": "markdown",
      "metadata": {
        "id": "v-DcUEtwY1YC"
      },
      "source": [
        "## Paso de Tupla a Lista y Lista a Tupla\n",
        "Las funciones **list** y **tuple** son las que nos permiten realizar este tipo de conversiones.  miremos"
      ]
    },
    {
      "cell_type": "markdown",
      "metadata": {
        "id": "3J2N3Q3eZXzD"
      },
      "source": [
        "**Paso de Lista a TUpla**"
      ]
    },
    {
      "cell_type": "code",
      "execution_count": 68,
      "metadata": {
        "colab": {
          "base_uri": "https://localhost:8080/"
        },
        "id": "nn8UbgQWY13o",
        "outputId": "eed702dc-f525-4175-cc34-a4565cdcbaa1"
      },
      "outputs": [
        {
          "name": "stdout",
          "output_type": "stream",
          "text": [
            "[1, 2, 3, 4, 5] es de tipo <class 'list'>\n",
            "(1, 2, 3, 4, 5) es de tipo <class 'tuple'>\n"
          ]
        }
      ],
      "source": [
        "mi_lista = [1,2,3,4,5]\n",
        "print(f\"{mi_lista} es de tipo {type(mi_lista)}\")\n",
        "mi_tupla = tuple(mi_lista)\n",
        "print(f\"{mi_tupla} es de tipo {type(mi_tupla)}\")"
      ]
    },
    {
      "cell_type": "markdown",
      "metadata": {
        "id": "S8Ki1vUjZbH9"
      },
      "source": [
        "**Paso de tupla a lista**\n"
      ]
    },
    {
      "cell_type": "code",
      "execution_count": 69,
      "metadata": {
        "colab": {
          "base_uri": "https://localhost:8080/"
        },
        "id": "DUtlEcIAZd6d",
        "outputId": "1a8a44ae-3ca7-4a43-bd00-0c9f9a0d8923"
      },
      "outputs": [
        {
          "name": "stdout",
          "output_type": "stream",
          "text": [
            "(1, 2, 3, 4, 5) es de tipo <class 'tuple'>\n",
            "[1, 2, 3, 4, 5] es de tipo <class 'list'>\n"
          ]
        }
      ],
      "source": [
        "mi_tupla = (1,2,3,4,5)\n",
        "print(f\"{mi_tupla} es de tipo {type(mi_tupla)}\")\n",
        "mi_lista = list(mi_tupla)\n",
        "print(f\"{mi_lista} es de tipo {type(mi_lista)}\")\n"
      ]
    },
    {
      "cell_type": "code",
      "execution_count": 71,
      "metadata": {
        "colab": {
          "base_uri": "https://localhost:8080/"
        },
        "id": "TKyHYB3vZ54X",
        "outputId": "92ec27cb-a1fc-4078-b3a3-b1cebda17426"
      },
      "outputs": [
        {
          "name": "stdout",
          "output_type": "stream",
          "text": [
            "(1, 3, 4, 5, 8, 9)\n"
          ]
        }
      ],
      "source": [
        "mi_tupla = (3,8,5,9,1,4)\n",
        "mi_lista = list(mi_tupla)\n",
        "mi_lista.sort()\n",
        "mi_tupla = tuple(mi_lista)\n",
        "print(mi_tupla)"
      ]
    },
    {
      "cell_type": "markdown",
      "metadata": {},
      "source": [
        "# APROPIACION"
      ]
    },
    {
      "cell_type": "markdown",
      "metadata": {},
      "source": [
        "1. Pregunte al usuario cuántos elementos desea ingresar en una lista, luego solicite cada uno de ellos y presente el contenido de la lista y su contenido invertido."
      ]
    },
    {
      "cell_type": "markdown",
      "metadata": {},
      "source": [
        "2. Crear una lista de números y solicitar un número.  Borrar de la lista ese número en todas las posiciones donde se encuentre.  Presentar la lista final"
      ]
    },
    {
      "cell_type": "markdown",
      "metadata": {},
      "source": [
        "3. Solicite al usuario dos(2) frases y devuelva una lista con todas las letras que se repiten en la misma posición de ambas listas\n",
        "\n",
        "ejemplo:\n",
        "frase1:  \"holasena\"\n",
        "frase2:  \"todogana\"\n",
        "salida: [\"o\",\"n\", \"a\"]"
      ]
    },
    {
      "cell_type": "markdown",
      "metadata": {},
      "source": []
    },
    {
      "cell_type": "markdown",
      "metadata": {},
      "source": [
        "# APROPIACION TRABAJO EN CASA"
      ]
    },
    {
      "cell_type": "markdown",
      "metadata": {},
      "source": [
        "1. Procesamiento de Números del 1 al 20\n",
        "Se requiere desarrollar un programa que trabaje con los números comprendidos entre el 1 y el 20, de forma que se identifiquen y muestren aquellos que sean divisibles por dos, acompañados de su posición en la secuencia. Además, el sistema debe recorrer la colección para determinar cuántos números no cumplen esa propiedad y calcular la suma de los que sí la cumplen. El objetivo es diseñar la lógica necesaria para examinar y procesar los números según las condiciones indicadas.\n",
        "\n",
        "2. Administración de Actividades Diarias\n",
        "Imagina una aplicación para gestionar las actividades cotidianas de una persona, donde se disponga de una serie de tareas, algunas de las cuales indican que ya han sido concluidas. El desafío consiste en presentar cada actividad junto a su posición en la colección, filtrar aquellas que contengan una marca de finalización y actualizar el conjunto de actividades. Finalmente, se debe exhibir el estado del conjunto antes y después de aplicar el filtro, permitiendo al usuario observar los cambios realizados.\n",
        "\n",
        "3. Filtrado y Transformación de Texto\n",
        "Propón un sistema en el que se solicite al usuario una secuencia de caracteres. A partir de la entrada, se debe descomponer el texto en sus componentes individuales y extraer únicamente aquellos que correspondan a letras del alfabeto, omitiendo números y símbolos. Una vez realizado este filtrado, la colección resultante deberá ser convertida en una estructura que no permita modificaciones, y el resultado final se debe mostrar al usuario.\n",
        "\n",
        "4. Informe Interactivo de Alumnos\n",
        "Considera dos conjuntos de datos paralelos: uno con nombres de estudiantes y otro con sus respectivas calificaciones. El reto consiste en elaborar un informe que relacione cada alumno con su nota, presentando también la posición de cada registro. Posteriormente, el sistema debe permitir al usuario consultar la nota de un alumno específico introduciendo la posición correspondiente, finalizando la consulta si se ingresa un valor fuera del rango válido. La solución deberá vincular ambas colecciones de manera sincronizada y ofrecer una interacción dinámica.\n",
        "\n",
        "5. Aplicación de Operaciones sobre Valores Numéricos\n",
        "Diseña una aplicación que inicie con una serie de valores numéricos predefinidos. El usuario interactuará mediante un menú que le permita realizar distintas operaciones: calcular la suma total de los valores, reordenarlos según un criterio específico o eliminar uno de ellos según una indicación. La interfaz deberá ofrecer la posibilidad de repetir estas acciones hasta que el usuario decida finalizar. El desafío es organizar el flujo de la interacción y manipular la colección de números de acuerdo a la opción elegida.. \n",
        "\n",
        "\n",
        "\n",
        "\n",
        "\n",
        "\n"
      ]
    }
  ],
  "metadata": {
    "colab": {
      "provenance": []
    },
    "kernelspec": {
      "display_name": "Python 3",
      "name": "python3"
    },
    "language_info": {
      "name": "python"
    }
  },
  "nbformat": 4,
  "nbformat_minor": 0
}
