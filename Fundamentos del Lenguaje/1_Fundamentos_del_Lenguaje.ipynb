{
  "cells": [
    {
      "cell_type": "code",
      "execution_count": null,
      "metadata": {
        "id": "ExbFFfLLtOmW"
      },
      "outputs": [],
      "source": [
        "¿Por qué Python?\n",
        "Popular #1\n",
        "Multiparadigma\n",
        "Comunidad python.org\n",
        "Libre\n",
        "Versátil\n",
        "Curva de apendizaje\n",
        "Multiplataforma\n",
        "Lenguajes-Programacion-mas-Demandados-2022.jpg\n",
        "\n"
      ]
    },
    {
      "cell_type": "code",
      "execution_count": 2,
      "metadata": {
        "colab": {
          "base_uri": "https://localhost:8080/"
        },
        "id": "VmEYWKJBwITi",
        "outputId": "4c34e12d-3d0a-4b2b-a0b1-a88a8beb9927"
      },
      "outputs": [
        {
          "name": "stdout",
          "output_type": "stream",
          "text": [
            "Hola mundo\n"
          ]
        }
      ],
      "source": [
        "print (\"Hola mundo\")"
      ]
    },
    {
      "cell_type": "code",
      "execution_count": 3,
      "metadata": {
        "colab": {
          "base_uri": "https://localhost:8080/"
        },
        "id": "eS1QFFglwa-z",
        "outputId": "0f9626ee-cdc9-4489-8648-8ba9493bf230"
      },
      "outputs": [
        {
          "name": "stdout",
          "output_type": "stream",
          "text": [
            "Hola Mundo Python 3\n"
          ]
        }
      ],
      "source": [
        "print (\"Hola\",\"Mundo\",\"Python\",3)"
      ]
    },
    {
      "cell_type": "code",
      "execution_count": 4,
      "metadata": {
        "colab": {
          "base_uri": "https://localhost:8080/"
        },
        "id": "tu56sBEawsNP",
        "outputId": "3f3ed764-17dd-443f-dc8d-e7903d4224ce"
      },
      "outputs": [
        {
          "name": "stdout",
          "output_type": "stream",
          "text": [
            "Adios mundo Python\n"
          ]
        }
      ],
      "source": [
        "print (\"Adios mundo Python\")"
      ]
    },
    {
      "cell_type": "markdown",
      "metadata": {
        "id": "vmJeCCTxxEdz"
      },
      "source": [
        "Además de los valores a imprimir que pueden ser de cualquier tipo, la función print tiene dos parámetros adicionales con valores por defecto\n",
        "\n",
        "sep (separador) cuyo valor por defecto es un espacio \" \"\n",
        "\n",
        "end (final) cuyo valor por defecto es un salto de línea \\n\n",
        "\n",
        "Podemos por lo tanto darle valores específicos a estos dos argumentos en caso de ser necesario."
      ]
    },
    {
      "cell_type": "markdown",
      "metadata": {
        "id": "maOdrdhOxNcX"
      },
      "source": [
        "**Algunos editores Python**"
      ]
    },
    {
      "cell_type": "code",
      "execution_count": null,
      "metadata": {
        "id": "7z0gXXLJxGcO"
      },
      "outputs": [],
      "source": []
    },
    {
      "cell_type": "markdown",
      "metadata": {
        "id": "N_0i1XVdxSC-"
      },
      "source": [
        "* **Pycharm**\n",
        "* **Visual studio code**\n",
        "* **Anaconda**\n",
        "* **Jupyter**\n",
        "* **GOOGLE COLAB**"
      ]
    },
    {
      "cell_type": "code",
      "execution_count": null,
      "metadata": {
        "id": "Zjlr4oANxvOy"
      },
      "outputs": [],
      "source": []
    },
    {
      "cell_type": "markdown",
      "metadata": {
        "id": "ZX5QSnNXxzWJ"
      },
      "source": [
        "# PEP - **P**ython **E**nhancement **P**roposals\n",
        "\n",
        "Propuestas de mejoras Python.  Documentos técnicos con propuestas para ayudar a la comunidad.  Son tomadas como estándares para aplicar buenas prácticas en la programación con Python.\n",
        "\n",
        "[Listado de PEPs](https://peps.python.org/)\n",
        "\n",
        "[PEP 8 Guía de estilo para el código en Python (Español) ](https://recursospython.com/pep8es.pdf)"
      ]
    },
    {
      "cell_type": "markdown",
      "metadata": {
        "id": "gEpIqt5cyRSn"
      },
      "source": [
        "¿Sabes cuál es el nombre de la convención usada por Python para nombrar variables? -----------> snake case. No podría ser otro 🐍\n",
        "\n",
        "* primerNombre  primer_nombre\n",
        "* Precio_Total  precio_total\n",
        "* MAXIMO_DESCUENTO  maximo_descuento"
      ]
    },
    {
      "cell_type": "code",
      "execution_count": null,
      "metadata": {
        "id": "mQ_nCVG0x5h3"
      },
      "outputs": [],
      "source": []
    },
    {
      "cell_type": "markdown",
      "metadata": {
        "id": "2NbBuIkOy9j8"
      },
      "source": [
        "# Variables, tipos de datos, operadores"
      ]
    },
    {
      "cell_type": "code",
      "execution_count": null,
      "metadata": {
        "id": "jOEr5fLVy-pq"
      },
      "outputs": [],
      "source": []
    },
    {
      "cell_type": "markdown",
      "metadata": {
        "id": "XwmSs59nzG4b"
      },
      "source": [
        "## Datos Numéricos\n",
        "\n",
        "**Tipado Dinámico**"
      ]
    },
    {
      "cell_type": "code",
      "execution_count": 6,
      "metadata": {
        "colab": {
          "base_uri": "https://localhost:8080/"
        },
        "id": "igCC-wOAzJrT",
        "outputId": "b0e20565-07fa-4a55-d39c-967f6e422da8"
      },
      "outputs": [
        {
          "name": "stdout",
          "output_type": "stream",
          "text": [
            "Tipo de datos de X: <class 'int'>\n"
          ]
        }
      ],
      "source": [
        "x = 15\n",
        "print(\"Tipo de datos de X:\", type(x))"
      ]
    },
    {
      "cell_type": "code",
      "execution_count": 9,
      "metadata": {
        "colab": {
          "base_uri": "https://localhost:8080/"
        },
        "id": "1xr0B7zOzVhH",
        "outputId": "c598d80f-a297-4fe7-e955-fa936a829a52"
      },
      "outputs": [
        {
          "name": "stdout",
          "output_type": "stream",
          "text": [
            "Tipos de datos de  y: <class 'int'>\n",
            "7.5\n",
            "Tipo de dato de z <class 'float'>\n",
            "hola\n",
            "<class 'str'>\n"
          ]
        }
      ],
      "source": [
        "x = 15\n",
        "y = 2\n",
        "print(\"Tipos de datos de  y:\", type(y))\n",
        "z = x/y\n",
        "print (z)\n",
        "print (\"Tipo de dato de z\", type(z))\n",
        "x = \"hola\"\n",
        "print(x)\n",
        "print(type(x))"
      ]
    },
    {
      "cell_type": "code",
      "execution_count": null,
      "metadata": {
        "id": "-Id6WrAo0Ojh"
      },
      "outputs": [],
      "source": []
    },
    {
      "cell_type": "markdown",
      "metadata": {
        "id": "aFnnie4s1e69"
      },
      "source": [
        "Podrías decirnos antes de ejecutar el siguiente código cuál es el resultado de cada operación:"
      ]
    },
    {
      "cell_type": "code",
      "execution_count": 13,
      "metadata": {
        "colab": {
          "base_uri": "https://localhost:8080/"
        },
        "id": "YeSK7LKN1f2T",
        "outputId": "10edff40-c66e-40e0-8dbe-951924528363"
      },
      "outputs": [
        {
          "name": "stdout",
          "output_type": "stream",
          "text": [
            "2.5\n",
            "1\n",
            "25\n",
            "3\n"
          ]
        }
      ],
      "source": [
        "print(5/2)\n",
        "print(5%2)\n",
        "print(5**2)\n",
        "print( 15//4)"
      ]
    },
    {
      "cell_type": "code",
      "execution_count": null,
      "metadata": {
        "id": "GKjcIZMD2ROA"
      },
      "outputs": [],
      "source": []
    },
    {
      "cell_type": "markdown",
      "metadata": {
        "id": "13wmsGYM2usH"
      },
      "source": [
        "## Operadores Aritméticos\n",
        "\n",
        "| Symbol | Task Performed |\n",
        "|----|---|\n",
        "| +  | Suma |\n",
        "| -  | Resta |\n",
        "| /  | División |\n",
        "| %  | Residuo |\n",
        "| *  | Multiplicación |\n",
        "| //  | División entera |\n",
        "| **  | Exponenciación |\n",
        "| ~   | Negación |"
      ]
    },
    {
      "cell_type": "code",
      "execution_count": null,
      "metadata": {
        "id": "oP2J3uE12wE6"
      },
      "outputs": [],
      "source": []
    },
    {
      "cell_type": "markdown",
      "metadata": {
        "id": "3nea2mFM28lA"
      },
      "source": [
        "Desde python 3.6 los números enteros se pueden expresar con un guion bajo _ que les brinde mayor claridad de lectura.  Por ejemplo si queremos sumar 1250000 + 3240000 podemos expresarlo de la siguiente manera:"
      ]
    },
    {
      "cell_type": "code",
      "execution_count": 14,
      "metadata": {
        "colab": {
          "base_uri": "https://localhost:8080/"
        },
        "id": "C0cGAZ9S29sn",
        "outputId": "40e1e0f9-86b4-4eeb-b559-275ed6b78c8b"
      },
      "outputs": [
        {
          "name": "stdout",
          "output_type": "stream",
          "text": [
            "4490000 4490000\n"
          ]
        }
      ],
      "source": [
        "x = 1_250_000 +3_240_000\n",
        "y = 1250000 + 3240000\n",
        "print (x, y)"
      ]
    },
    {
      "cell_type": "markdown",
      "metadata": {
        "id": "WiWcUu3x3TF3"
      },
      "source": [
        "Por defecto, los números en python son decimales, pero también podemos expresar números en formato binario, Octal y Hexadecimal anteponiendo 0b, 0o y 0x respectivamente.\n",
        "\n",
        "Podrías indicarnos antes de ejecutar el siguiente código, cuál es el valor en decimal de los siguientes números?"
      ]
    },
    {
      "cell_type": "code",
      "execution_count": 21,
      "metadata": {
        "colab": {
          "base_uri": "https://localhost:8080/"
        },
        "id": "Hb-UtoFi3T-i",
        "outputId": "a834ffc6-8562-4bdd-a58e-9ea5cbe7ab2b"
      },
      "outputs": [
        {
          "name": "stdout",
          "output_type": "stream",
          "text": [
            "12\n",
            "5\n",
            "10\n",
            "18\n",
            "0x7c\n",
            "0b101\n",
            "0o5041\n"
          ]
        }
      ],
      "source": [
        "print (12)\n",
        "print (0b101)\n",
        "print (0o12)\n",
        "print (0x12)\n",
        "print (hex(0o174))\n",
        "print (bin(5))\n",
        "print (oct(0xA21))"
      ]
    },
    {
      "cell_type": "markdown",
      "metadata": {
        "id": "dDAKcyXb4Ogf"
      },
      "source": []
    },
    {
      "cell_type": "markdown",
      "metadata": {
        "id": "xYntKxTh4Rey"
      },
      "source": [
        "##Operadores lógicos a nivel de bits\n",
        "AND **&**\n",
        "\n",
        "OR **|**\n",
        "\n",
        "XOR **^**"
      ]
    },
    {
      "cell_type": "code",
      "execution_count": null,
      "metadata": {
        "id": "YitfRRoL4WCU"
      },
      "outputs": [],
      "source": []
    },
    {
      "cell_type": "markdown",
      "metadata": {
        "id": "6IZsR8IJ4eib"
      },
      "source": [
        "![operadores logicos bits.png](data:image/png;base64,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)"
      ]
    },
    {
      "cell_type": "code",
      "execution_count": 24,
      "metadata": {
        "colab": {
          "base_uri": "https://localhost:8080/"
        },
        "id": "0dDSLjU14fhR",
        "outputId": "914561f3-1868-48f8-ed7e-e2c1e1a1f4b6"
      },
      "outputs": [
        {
          "name": "stdout",
          "output_type": "stream",
          "text": [
            "2\n",
            "3\n",
            "1\n"
          ]
        }
      ],
      "source": [
        "print (2 & 3) # 10 & 11 = 10 = 2\n",
        "print (2|3) # 10 | 11 = 11 = 3\n",
        "print ( 2 ^ 3) # 10 ^ 11 = 01 = 1"
      ]
    },
    {
      "cell_type": "code",
      "execution_count": null,
      "metadata": {
        "id": "yZzoYlUS59Ly"
      },
      "outputs": [],
      "source": []
    },
    {
      "cell_type": "markdown",
      "metadata": {
        "id": "-npm2bQt6hHa"
      },
      "source": []
    },
    {
      "cell_type": "markdown",
      "metadata": {
        "id": "LdhXN4tR6vsH"
      },
      "source": [
        "¿Cuál será el resultado de las siguientes líneas de código?"
      ]
    },
    {
      "cell_type": "code",
      "execution_count": null,
      "metadata": {
        "id": "aa_R_LVp6wUx"
      },
      "outputs": [],
      "source": [
        "print (1 & 3) # 01 & 11\n",
        "print  ( 21| 12) #\n",
        "print ( 5 & 8) #"
      ]
    },
    {
      "cell_type": "code",
      "execution_count": 30,
      "metadata": {
        "colab": {
          "base_uri": "https://localhost:8080/"
        },
        "id": "zDSu6mBd8YSe",
        "outputId": "a27233d3-a577-4303-8aa7-51de80893117"
      },
      "outputs": [
        {
          "name": "stdout",
          "output_type": "stream",
          "text": [
            "0b10101\n",
            "0b1100\n",
            "29\n"
          ]
        }
      ],
      "source": [
        "print(bin(21))\n",
        "print(bin(12))\n",
        "x = 0b10101\n",
        "y = 0b1100\n",
        "print (x | y)"
      ]
    },
    {
      "cell_type": "markdown",
      "metadata": {
        "id": "H1KUa8Jn-CeE"
      },
      "source": [
        "## Operadores Relacionales\n",
        "\n",
        "| Símbolo | Tarea |\n",
        "|----|---|\n",
        "| == | Verdadero, si valores son iguales |\n",
        "| is | Verdadero, si son idénticos, por ejemplo el **mismo** objecto  |\n",
        "| !=  | Verdadero, si no son iguales |\n",
        "| < | Menor que |\n",
        "| > | Mayor que |\n",
        "| <=  | Menor o igual a |\n",
        "| >=  | Mayor o igual a |\n",
        "| in  | Comprueba si un elemento está dentro de una colección (list, set, dictionary) |"
      ]
    },
    {
      "cell_type": "code",
      "execution_count": 31,
      "metadata": {
        "colab": {
          "base_uri": "https://localhost:8080/"
        },
        "id": "DjpR8zmw-DZv",
        "outputId": "64d5b249-bb02-4bd1-fe3e-f003f8485a6c"
      },
      "outputs": [
        {
          "name": "stdout",
          "output_type": "stream",
          "text": [
            "False\n",
            "True\n",
            "True\n",
            "True\n",
            "False\n",
            "False\n",
            "True\n"
          ]
        }
      ],
      "source": [
        "print (3 > 5 ) # false\n",
        "print (3 <= 5) # true\n",
        "print ( 3 != 5) # true\n",
        "print (type(3) is type (5)) #true\n",
        "print (type (3) is type(5.0)) # false\n",
        "print (3 in[4,5,6]) # false\n",
        "print (3 in [4,3,5]) # true\n"
      ]
    },
    {
      "cell_type": "markdown",
      "metadata": {
        "id": "JhQJYQcm_U8x"
      },
      "source": [
        "##Los números flotantes\n",
        "\n",
        "Acompañados de parte decimal. Ejemplo:\n",
        "\n",
        "4.5\n",
        "\n",
        "0.2\n",
        "\n",
        ".25"
      ]
    },
    {
      "cell_type": "markdown",
      "metadata": {
        "id": "2TC5HjEZ_p73"
      },
      "source": [
        "E xponente significa diez a la n potencia ¿Cuál será el resultado de las siguientes líneas?"
      ]
    },
    {
      "cell_type": "code",
      "execution_count": 32,
      "metadata": {
        "colab": {
          "base_uri": "https://localhost:8080/"
        },
        "id": "HcNA_Zvi_qtz",
        "outputId": "0e0c4918-c785-4294-b2c0-67666f78cb86"
      },
      "outputs": [
        {
          "name": "stdout",
          "output_type": "stream",
          "text": [
            "8\n",
            "2000.0\n",
            "250.0\n",
            "5000.0\n"
          ]
        }
      ],
      "source": [
        "print (2**3) # 8\n",
        "print (2E3) # 2000\n",
        "print (2.5E2) # 250\n",
        "print( .5E4) # 5000\n"
      ]
    },
    {
      "cell_type": "markdown",
      "metadata": {
        "id": "HvCubHKZAK7B"
      },
      "source": []
    },
    {
      "cell_type": "markdown",
      "metadata": {
        "id": "NnhtgAzBAL2h"
      },
      "source": [
        "## Tipos de datos Cadena"
      ]
    },
    {
      "cell_type": "code",
      "execution_count": null,
      "metadata": {
        "id": "Ltbgyp_MAM44"
      },
      "outputs": [],
      "source": []
    },
    {
      "cell_type": "markdown",
      "metadata": {
        "id": "Gcl8oRYBAPPk"
      },
      "source": [
        "Las cadenas en python son objetos inmutables a los que les podemos aplicar diferentes métodos.  Otra característica es que cada cadena está conformada por un conjunto de caracteres a los cuales podemos acceder mediante sus índices"
      ]
    },
    {
      "cell_type": "code",
      "execution_count": 33,
      "metadata": {
        "colab": {
          "base_uri": "https://localhost:8080/"
        },
        "id": "-8F3l_arAQLn",
        "outputId": "865abdb0-a75f-4f67-cca3-e23b8f67b5dc"
      },
      "outputs": [
        {
          "name": "stdout",
          "output_type": "stream",
          "text": [
            "8\n"
          ]
        }
      ],
      "source": [
        "x = 3\n",
        "y = 5\n",
        "z = x + y\n",
        "print(z)"
      ]
    },
    {
      "cell_type": "code",
      "execution_count": 38,
      "metadata": {
        "colab": {
          "base_uri": "https://localhost:8080/"
        },
        "id": "KnKe2XW0Ayii",
        "outputId": "39cdc1de-494f-4076-f71c-d2baad2cf5d2"
      },
      "outputs": [
        {
          "name": "stdout",
          "output_type": "stream",
          "text": [
            "<class 'str'>\n",
            "Pythonton\n",
            "P\n",
            "h\n",
            "2\n"
          ]
        }
      ],
      "source": [
        "cad = \"Pythonton\"\n",
        "print(type(cad))\n",
        "print(cad)\n",
        "print (cad[0])\n",
        "print (cad[3])\n",
        "\n",
        "print(cad.count(\"o\"))"
      ]
    },
    {
      "cell_type": "markdown",
      "metadata": {
        "id": "RhZ5egEmBkXO"
      },
      "source": [
        "**Cadenas con múltiples líneas**"
      ]
    },
    {
      "cell_type": "code",
      "execution_count": 44,
      "metadata": {
        "colab": {
          "base_uri": "https://localhost:8080/"
        },
        "id": "wocpQ2DlBk7J",
        "outputId": "b7edc027-8f08-4b4c-be79-776e139d29f6"
      },
      "outputs": [
        {
          "name": "stdout",
          "output_type": "stream",
          "text": [
            "Escucha hermano \n",
            "   la cancion de la alegria \n",
            "\n",
            "El canto alegre\n",
            "del que espera\n",
            "un nuevo\n",
            "dia\n"
          ]
        }
      ],
      "source": [
        "#Cadenas multilineas\n",
        "cad =  \"\"\"Escucha hermano\n",
        "   la cancion de la alegria \"\"\"\n",
        "print(cad)\n",
        "\n",
        "cad2 = \"\\nEl canto alegre\\ndel que espera\\nun nuevo\\ndia\"\n",
        "print(cad2)"
      ]
    },
    {
      "cell_type": "code",
      "execution_count": 51,
      "metadata": {
        "colab": {
          "base_uri": "https://localhost:8080/"
        },
        "id": "XPQ441hZCfci",
        "outputId": "91c1428e-ccc4-4046-8e8f-64d8caa832d1"
      },
      "outputs": [
        {
          "name": "stdout",
          "output_type": "stream",
          "text": [
            "1) hola Mundo Python3\n",
            "1) Hola Mundo Python 3\n",
            "python\n",
            "3\n"
          ]
        }
      ],
      "source": [
        "#Concatenación y formateo de cadenas\n",
        "print (\"1) hola \" + \"Mundo \" + \"Python\" + str(3))\n",
        "print(\"1) Hola\", \"Mundo\", \"Python\", 3)\n",
        "\n",
        "\n",
        "lenguaje,version = \"python\", 3 # asignación multiple\n",
        "print(lenguaje)\n",
        "print(version)"
      ]
    },
    {
      "cell_type": "code",
      "execution_count": 55,
      "metadata": {
        "colab": {
          "base_uri": "https://localhost:8080/"
        },
        "id": "wFEVFwn2BuYD",
        "outputId": "71719dfd-2456-45e3-85aa-bfd0c75ecc56"
      },
      "outputs": [
        {
          "name": "stdout",
          "output_type": "stream",
          "text": [
            "3) hola mundo Python 3 \n",
            "4) hola mundo Python 3\n",
            "5) hola mundo Python 3\n",
            "6) hola Python mundo\n"
          ]
        }
      ],
      "source": [
        "lenguaje,version = \"Python\", 3\n",
        "print(\"3) hola mundo %s %s \" %(lenguaje,version))\n",
        "\n",
        "print(\"4) hola mundo {} {}\".format(lenguaje, version))\n",
        "\n",
        "print(f\"5) hola mundo {lenguaje} {version}\")\n",
        "\n",
        "print (\"6) hola\", lenguaje, \"mundo\")"
      ]
    },
    {
      "cell_type": "markdown",
      "metadata": {
        "id": "ubPdV4VcFn4A"
      },
      "source": [
        "Un dato curioso es que en python podemos multiplicar las cadenas."
      ]
    },
    {
      "cell_type": "code",
      "execution_count": null,
      "metadata": {
        "id": "qJXRA0V3Fo1z"
      },
      "outputs": [],
      "source": []
    },
    {
      "cell_type": "code",
      "execution_count": 58,
      "metadata": {
        "colab": {
          "base_uri": "https://localhost:8080/"
        },
        "id": "zp_YzpyUFqNG",
        "outputId": "a5166e34-f365-454a-f0db-1d6125d4c00d"
      },
      "outputs": [
        {
          "name": "stdout",
          "output_type": "stream",
          "text": [
            "('sisisi', 'este amor es tan profundo')\n",
            "********\n",
            "********\n",
            "********\n",
            "********\n",
            "\n"
          ]
        }
      ],
      "source": [
        "cadena = \"si\"\n",
        "print((cadena*3, \"este amor es tan profundo\"))\n",
        "print(((\"*\"*8)+ \"\\n\")*4)"
      ]
    },
    {
      "cell_type": "code",
      "execution_count": 75,
      "metadata": {
        "colab": {
          "base_uri": "https://localhost:8080/"
        },
        "id": "RJ-egg_uY07g",
        "outputId": "18ad4201-c21a-4ac9-8d03-edf7fda1a4ff"
      },
      "outputs": [
        {
          "name": "stdout",
          "output_type": "stream",
          "text": [
            "+----------+\n",
            "|          |\n",
            "|          |\n",
            "|          |\n",
            "|          |\n",
            "|          |\n",
            "+ ----------+\n"
          ]
        }
      ],
      "source": [
        "print (\"+\" + 10 * \"-\" + \"+\")\n",
        "print ((\"|\" + \" \" * 10 + \"|\\n\") * 5, end=\"\")\n",
        "print (\"+\" + 10 * \"-\" + \"+\")"
      ]
    },
    {
      "cell_type": "markdown",
      "metadata": {
        "id": "wQes_ZDQbzY5"
      },
      "source": [
        "**Slicing de Cadenas**"
      ]
    },
    {
      "cell_type": "code",
      "execution_count": 79,
      "metadata": {
        "colab": {
          "base_uri": "https://localhost:8080/"
        },
        "id": "fqgAv2Zlb1cQ",
        "outputId": "5836860a-e73a-44a4-b880-d426532a6d01"
      },
      "outputs": [
        {
          "name": "stdout",
          "output_type": "stream",
          "text": [
            "lenguaje\n",
            "de\n",
            "programación\n",
            "python\n"
          ]
        }
      ],
      "source": [
        "cadena = \"lenguaje de programación python\"\n",
        "\n",
        "print(cadena[0:8])\n",
        "print(cadena[9:11])\n",
        "print(cadena[12:24])\n",
        "print(cadena[25:31])"
      ]
    },
    {
      "cell_type": "markdown",
      "metadata": {
        "id": "D_LI4iC3dZ9J"
      },
      "source": [
        "**Comprendiendo los valores por defecto y valores negativos en el slicing**"
      ]
    },
    {
      "cell_type": "code",
      "execution_count": 86,
      "metadata": {
        "colab": {
          "base_uri": "https://localhost:8080/"
        },
        "id": "KXBY83XDdak5",
        "outputId": "0ab436b0-93ce-49b5-f919-a31850aa6052"
      },
      "outputs": [
        {
          "name": "stdout",
          "output_type": "stream",
          "text": [
            "len\n",
            "python\n",
            "pyth\n",
            "ó\n"
          ]
        }
      ],
      "source": [
        "cadena = \"lenguaje de programación python\"\n",
        "\n",
        "print(cadena[:3])\n",
        "print(cadena[25:])\n",
        "print(cadena[-6:-2])\n",
        "print (cadena[-9])"
      ]
    },
    {
      "cell_type": "markdown",
      "metadata": {
        "id": "atvNGZkpfDJP"
      },
      "source": [
        "## Conversiones entre tipos\n"
      ]
    },
    {
      "cell_type": "code",
      "execution_count": 88,
      "metadata": {
        "colab": {
          "base_uri": "https://localhost:8080/"
        },
        "id": "Z0JsQrkcfEOH",
        "outputId": "5d35a884-419b-4d81-f90d-a6778c9ebae4"
      },
      "outputs": [
        {
          "name": "stdout",
          "output_type": "stream",
          "text": [
            "35\n",
            "8\n"
          ]
        }
      ],
      "source": [
        "a,b = \"3\", \"5\"\n",
        "\n",
        "print (a+b)\n",
        "\n",
        "print(int(a) + int(b))\n",
        "\n"
      ]
    },
    {
      "cell_type": "markdown",
      "metadata": {
        "id": "iwulOTktf2Go"
      },
      "source": [
        "## Métodos de cadenas\n",
        "A las cadenas les podemos aplicar una serie de métodos útiles predefinidos en python.  Acá un par de ejemplos:"
      ]
    },
    {
      "cell_type": "code",
      "execution_count": 91,
      "metadata": {
        "colab": {
          "base_uri": "https://localhost:8080/"
        },
        "id": "2k4zN9Urf3Ab",
        "outputId": "89d66c4a-5137-496f-958d-b0246e0ec5e6"
      },
      "outputs": [
        {
          "name": "stdout",
          "output_type": "stream",
          "text": [
            "MI POBRE ANGELITO\n",
            "2\n",
            "la letra 'o' esta 2 veces en la palabra/frase 'mi pobre angelito'\n"
          ]
        }
      ],
      "source": [
        "cadena_base = \"mi pObre angelito\".lower()\n",
        "cad1 = cadena_base.upper()\n",
        "\n",
        "print(cad1)\n",
        "\n",
        "numero_de_o = cadena_base.count(\"o\") # devuelve el numero de veces que se encuentra en unsa subcadena\n",
        "print(numero_de_o)\n",
        "\n",
        "print(f\"la letra 'o' esta {numero_de_o} veces en la palabra/frase '{cadena_base}'\")"
      ]
    },
    {
      "cell_type": "markdown",
      "metadata": {
        "id": "Y27w-3lwhbBO"
      },
      "source": [
        "En este enlace podrás encontrar más información sobre los [métodos de cadenas](https://pyspanishdoc.sourceforge.net/lib/string-methods.html)\n"
      ]
    },
    {
      "cell_type": "code",
      "execution_count": null,
      "metadata": {
        "id": "TcBnsqh4hcrZ"
      },
      "outputs": [],
      "source": []
    },
    {
      "cell_type": "markdown",
      "metadata": {
        "id": "uux-1Hu5hlbd"
      },
      "source": [
        "# Lectura de datos\n",
        "La función **input** permite realizar la lectura de datos de entrada por parte del usuario.  La función input devuelve lo ingresado por el usuario en forma de cadena, si se desea capturar un dato de otro tipo se debe hacer la respectiva conversión"
      ]
    },
    {
      "cell_type": "code",
      "execution_count": 92,
      "metadata": {
        "colab": {
          "base_uri": "https://localhost:8080/"
        },
        "id": "wt9CMfBShmYK",
        "outputId": "afb123d3-8e39-418e-fe15-0cdd3691357d"
      },
      "outputs": [
        {
          "name": "stdout",
          "output_type": "stream",
          "text": [
            " Ingrese la marca del auto: mazda\n",
            "La  marca del carro ingresada por el usuario es mazda\n"
          ]
        }
      ],
      "source": [
        "marca =  input (\" Ingrese la marca del auto: \")\n",
        "print(\"La  marca del carro ingresada por el usuario es\", marca)"
      ]
    },
    {
      "cell_type": "code",
      "execution_count": 95,
      "metadata": {
        "colab": {
          "base_uri": "https://localhost:8080/"
        },
        "id": "64VncbdqiKBY",
        "outputId": "701fdf53-b904-4597-8d7e-7352689fed29"
      },
      "outputs": [
        {
          "name": "stdout",
          "output_type": "stream",
          "text": [
            "Ingrese precio: 5000000\n",
            "El auto marca mazda tiene un precio de $5000000 y con el descuento del 10% le queda en  $4500000.0\n",
            "EL auto marca mazda tiene un precio de $5,000,000 y con el descuennto del 10% le queda en $4,500,000.0\n"
          ]
        }
      ],
      "source": [
        "precio = int(input(\"Ingrese precio: \"))\n",
        "print(f\"El auto marca {marca} tiene un precio de ${precio} y con el descuento del 10% le queda en  ${precio*0.9}\")\n",
        "\n",
        "print(\"EL auto marca {} tiene un precio de ${:,} y con el descuennto del 10% le queda en ${:,}\".format(marca,precio,precio*0.9))"
      ]
    },
    {
      "cell_type": "code",
      "execution_count": null,
      "metadata": {
        "id": "EWFbr4VliuH4"
      },
      "outputs": [],
      "source": []
    },
    {
      "cell_type": "markdown",
      "metadata": {
        "id": "YO1XUG6SlGnv"
      },
      "source": [
        "# Apropiaciónes"
      ]
    },
    {
      "cell_type": "markdown",
      "metadata": {
        "id": "8GuR61XPlMn1"
      },
      "source": [
        "1. Realice un programa que calcule el índice de cosecha de un cultivo en función de la cantidad de frutos recolectados y la cantidad de frutos producidos en total.\n",
        "\n",
        "Fórmula:\n",
        "```\n",
        "Índice de cosecha = (cantidad de frutos recolectados / cantidad de frutos producidos) * 100%\n",
        "```"
      ]
    },
    {
      "cell_type": "markdown",
      "metadata": {
        "id": "PDireFgplgm5"
      },
      "source": [
        "2. Dibujar la P de Python que abarque 7 filas y 5 columnas.  Use solo una línea de código"
      ]
    },
    {
      "cell_type": "markdown",
      "metadata": {
        "id": "ZmwpTv4sl8BY"
      },
      "source": [
        "3.\tUn alumno desea saber cuál será su calificación final en la materia de Matemáticas. Dicha calificación se compone de los siguientes porcentajes:\n",
        "55% del promedio de sus tres calificaciones parciales (se debe leer cada calificación parcial).\n",
        "30% de la calificación del examen final.\n",
        "15% de la calificación de un trabajo final."
      ]
    },
    {
      "cell_type": "markdown",
      "metadata": {
        "id": "SwdpMQrRmXQg"
      },
      "source": [
        "4. Recibir una frase por parte del usuario y devolver el número de palabras que se encuentran en la frase."
      ]
    },
    {
      "cell_type": "markdown",
      "metadata": {
        "id": "04Glz6JXmsoH"
      },
      "source": [
        "5. Recibir una frase y transformarla a mayúscula sostenida e invirtiendo su contenido"
      ]
    },
    {
      "cell_type": "code",
      "execution_count": null,
      "metadata": {
        "id": "V82-0DIHmYUY"
      },
      "outputs": [],
      "source": []
    }
  ],
  "metadata": {
    "colab": {
      "provenance": []
    },
    "kernelspec": {
      "display_name": "Python 3",
      "name": "python3"
    },
    "language_info": {
      "name": "python"
    }
  },
  "nbformat": 4,
  "nbformat_minor": 0
}
