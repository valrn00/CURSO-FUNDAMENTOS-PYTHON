{
 "cells": [
  {
   "cell_type": "markdown",
   "metadata": {},
   "source": [
    "# EJERCICIOS REFUERZO"
   ]
  },
  {
   "cell_type": "markdown",
   "metadata": {},
   "source": [
    "1. Adivina el Número Secreto\n",
    "Imagina un juego en el que se establece un valor numérico oculto y el usuario debe descubrirlo mediante intentos sucesivos. Después de cada intento, el sistema indicará si el valor propuesto es mayor o menor que el número guardado, de manera que el usuario ajuste su respuesta. El proceso continuará hasta que se alcance el valor correcto, momento en el cual se mostrará un mensaje de felicitación.\n",
    "\n",
    "2. Validación de Contraseña Segura\n",
    "Se requiere crear un mecanismo en el que el usuario introduzca una clave y el sistema verifique que cumpla ciertos requisitos, como una longitud mínima, la inclusión de letras tanto en mayúsculas como en minúsculas y la presencia de números. Si la entrada no satisface estos criterios, el programa deberá solicitar una nueva clave hasta que la condición se cumpla. El resultado final mostrará que la clave proporcionada es segura.\n",
    "\n",
    "3. Control de Acceso a un Evento Exclusivo\n",
    "Desarrolla una solución en la que se pida al usuario ingresar ciertos datos personales, como su edad y si dispone de una invitación especial. Con base en los valores ingresados, el sistema determinará si el usuario puede acceder al evento o no, mostrando un mensaje que indique su admisión o rechazo. La lógica debe considerar las diferentes combinaciones posibles de respuestas para garantizar una correcta evaluación.\n",
    "\n",
    "4. Cálculo del Factorial de un Número\n",
    "El desafío consiste en permitir que el usuario introduzca un número entero y, a partir de ese valor, obtener el producto de todos los números enteros positivos hasta alcanzarlo. La idea es acumular el resultado paso a paso, multiplicando cada valor intermedio, para finalmente mostrar el valor resultante que representa el factorial del número dado. Este ejercicio ayudará a comprender el proceso de acumulación mediante iteraciones.\n",
    "\n",
    "5. Generación de una Tabla de Multiplicar\n",
    "Se solicita diseñar una herramienta que pida al usuario un número entero y genere su tabla de multiplicar hasta un límite preestablecido. Para ello, se debe recorrer una serie de números, calcular el producto correspondiente para cada uno y exhibir los resultados de forma ordenada y legible. La solución debe permitir al usuario visualizar claramente todos los resultados de la tabla generada."
   ]
  }
 ],
 "metadata": {
  "language_info": {
   "name": "python"
  }
 },
 "nbformat": 4,
 "nbformat_minor": 2
}
