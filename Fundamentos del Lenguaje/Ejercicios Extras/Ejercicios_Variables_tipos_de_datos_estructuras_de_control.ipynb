{
 "cells": [
  {
   "cell_type": "markdown",
   "metadata": {},
   "source": [
    "# EJERCICIOS  VARIABLES, TIPOS DE DATOS Y ESTRUCTURAS DE CONTROL\n",
    "\n",
    "LOs siguientes ejercicios incluyen los concpetos de variables, tipos de datos, operadores y estructiras de control, resulva cada uno aplicando cuando corresponda cada concepto."
   ]
  },
  {
   "cell_type": "markdown",
   "metadata": {},
   "source": [
    "1. Calculadora Multiformato\n",
    "Desarrolla un programa que permita al usuario ingresar dos números y, a partir de ellos, realice diversas operaciones matemáticas. El sistema debe procesar la suma, la diferencia, el producto, la división, el residuo y la potencia, mostrando cada resultado junto a su respectivo formato numérico. Además, la solución debe encargarse de transformar la información recibida para asegurar que los cálculos se efectúen con precisión y se presenten de manera ordenada.\n",
    "\n",
    "2. Conversión entre Sistemas Numéricos\n",
    "El objetivo es construir una aplicación que solicite un número en formato decimal y lo convierta a sus equivalentes en otros sistemas, como el binario, el octal y el hexadecimal. Asimismo, el programa deberá permitir realizar la conversión inversa, de modo que el usuario pueda ingresar un número en cualquiera de estos formatos y obtener su valor en el sistema decimal. Se espera que la solución organice y formatee los resultados de manera clara para facilitar la comparación entre las distintas representaciones.\n",
    "\n",
    "3. Control de Precios y Descuentos\n",
    "Imagina una solución que pida al usuario el nombre de un producto junto con su precio original. El reto consiste en calcular un descuento fijo, mostrar el valor descontado y determinar el precio final tras aplicar la reducción. La información se debe presentar de forma legible, utilizando formatos que permitan distinguir claramente los montos involucrados y garantizando la exactitud en los cálculos mediante operaciones matemáticas adecuadas.\n",
    "\n",
    "4. Análisis Detallado de una Frase\n",
    "Crea una aplicación que invite al usuario a introducir una frase y que, a partir de ella, extraiga distintos elementos: la longitud total, la letra inicial y final, y una sección intermedia del texto. El sistema debe además transformar el contenido a diferentes presentaciones, como mayúsculas y minúsculas, y contar cuántas veces aparece un carácter específico. Este ejercicio pone a prueba la capacidad de manipular y transformar secuencias textuales, así como de realizar comparaciones y conteos precisos.\n",
    "\n",
    "5. Cálculo de Bonificaciones Laborales\n",
    "Diseña una solución que reciba datos de un trabajador, tales como su remuneración actual y el tiempo que ha estado en la empresa, para calcular una bonificación basada en un porcentaje determinado. El programa debe computar el incremento correspondiente, mostrar el monto adicional y el nuevo total, presentando la información de forma clara y formateada. El desafío consiste en aplicar operaciones aritméticas precisas y transformar los datos de entrada para lograr un resultado correcto y comprensible."
   ]
  }
 ],
 "metadata": {
  "language_info": {
   "name": "python"
  }
 },
 "nbformat": 4,
 "nbformat_minor": 2
}
